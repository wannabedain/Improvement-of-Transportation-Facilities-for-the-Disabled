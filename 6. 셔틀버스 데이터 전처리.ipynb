{
 "cells": [
  {
   "cell_type": "markdown",
   "metadata": {},
   "source": [
    "# 1. 라이브러리 불러오기"
   ]
  },
  {
   "cell_type": "code",
   "execution_count": 1,
   "metadata": {},
   "outputs": [],
   "source": [
    "import pandas as pd\n",
    "import os\n",
    "import dask.dataframe as dd\n",
    "import datetime\n",
    "import calendar\n",
    "import glob"
   ]
  },
  {
   "cell_type": "markdown",
   "metadata": {},
   "source": [
    "# 2. 사용자 설정"
   ]
  },
  {
   "cell_type": "markdown",
   "metadata": {},
   "source": [
    "2-1. default 경로 입력"
   ]
  },
  {
   "cell_type": "code",
   "execution_count": 2,
   "metadata": {},
   "outputs": [],
   "source": [
    "default_dir = 'C:/19Project/05.TRV/02.QGIS_workspace/'\n",
    "pop_data_dir = default_dir + 'input/유동인구'"
   ]
  },
  {
   "cell_type": "markdown",
   "metadata": {},
   "source": [
    "2-2. 사용 기간, 시간 설정"
   ]
  },
  {
   "cell_type": "code",
   "execution_count": 3,
   "metadata": {},
   "outputs": [],
   "source": [
    "##### 사용 기간 설정 #####\n",
    "start_ym = 201907\n",
    "end_ym = 201908\n",
    "\n",
    "##### 사용 시간 설정 #####\n",
    "start_h = 7\n",
    "end_h = 22"
   ]
  },
  {
   "cell_type": "markdown",
   "metadata": {},
   "source": [
    "# 3. 데이터 불러오기"
   ]
  },
  {
   "cell_type": "markdown",
   "metadata": {},
   "source": [
    "3-1. 디렉터리 생성"
   ]
  },
  {
   "cell_type": "code",
   "execution_count": 4,
   "metadata": {},
   "outputs": [],
   "source": [
    "now = datetime.datetime.now().date().strftime('%Y%m%d')\n",
    "\n",
    "num = 1\n",
    "\n",
    "preprocessing_dir = default_dir + '유동인구 전처리_' + now\n",
    "\n",
    "while os.path.exists(preprocessing_dir + '_' + str(num)):\n",
    "    num += 1\n",
    "    \n",
    "preprocessing_dir_num = preprocessing_dir + '_' + str(num) + '/'\n",
    "\n",
    "os.makedirs(os.path.join(preprocessing_dir_num))"
   ]
  },
  {
   "cell_type": "markdown",
   "metadata": {},
   "source": [
    "3-2. 유동인구 데이터 불러오기"
   ]
  },
  {
   "cell_type": "code",
   "execution_count": 5,
   "metadata": {},
   "outputs": [],
   "source": [
    "all_files = glob.glob(pop_data_dir + \"/*.csv\")\n",
    "\n",
    "df = dd.read_csv(all_files, engine = 'python', encoding = 'UTF-8', sep = '|', skiprows = [0], header = None)\n",
    "raw_pop_data = df.compute()\n",
    "raw_pop_data.columns = ['연월', 'gid', 'ADM_DR_CD', '시각', 'FLOW_POP_CNT_6000D', 'FLOW_POP_CNT_6064', 'FLOW_POP_CNT_6569', \n",
    "                        'FLOW_POP_CNT_7074', 'FLOW_POP_CNT_7579', 'FLOW_POP_CNT_8084', 'FLOW_POP_CNT_8589', 'FLOW_POP_CNT_9000U']"
   ]
  },
  {
   "cell_type": "markdown",
   "metadata": {},
   "source": [
    "# 4. 함수 생성"
   ]
  },
  {
   "cell_type": "code",
   "execution_count": 6,
   "metadata": {},
   "outputs": [],
   "source": [
    "# grid, 시각별 집계 - 유동인구\n",
    "def shuttle_pop(pop_data):\n",
    "    # 연월, 시각 필터링\n",
    "    pop_data_ym = pop_data[(pop_data['연월'] >= start_ym) & (pop_data['연월'] <= end_ym)]\n",
    "    pop_data_ym = pop_data_ym[(pop_data_ym['시각'] >= start_h) & (pop_data_ym['시각'] <= end_h)]\n",
    "    pop_data_ym.reset_index(drop = True, inplace = True)\n",
    "    # 유동인구 sum 계산\n",
    "    pop_data_ym['date_ym'] = pd.to_datetime(pop_data_ym['연월'], format = '%Y%m')\n",
    "    pop_data_ym['date_d'] = pop_data_ym['date_ym'].apply(lambda x: calendar.monthrange(x.year, x.month)[1])\n",
    "    pop_data_ym['pop_6569'] = pop_data_ym['date_d'] * pop_data_ym['FLOW_POP_CNT_6569']\n",
    "    pop_data_ym['pop_7074'] = pop_data_ym['date_d'] * pop_data_ym['FLOW_POP_CNT_7074']\n",
    "    pop_data_ym['pop_7579'] = pop_data_ym['date_d'] * pop_data_ym['FLOW_POP_CNT_7579']\n",
    "    pop_data_ym['pop_8084'] = pop_data_ym['date_d'] * pop_data_ym['FLOW_POP_CNT_8084']\n",
    "    pop_data_ym['pop_8589'] = pop_data_ym['date_d'] * pop_data_ym['FLOW_POP_CNT_8589']\n",
    "    pop_data_ym['pop_90up'] = pop_data_ym['date_d'] * pop_data_ym['FLOW_POP_CNT_9000U']\n",
    "    pop_data_ym['유동인구수'] = pop_data_ym['pop_6569'] + pop_data_ym['pop_7074'] + pop_data_ym['pop_7579'] + pop_data_ym['pop_8084'] + pop_data_ym['pop_8589'] + pop_data_ym['pop_90up']\n",
    "    pop_data_ym = pop_data_ym[['연월', 'gid', '시각', '유동인구수']]\n",
    "    # grid, 시각별 집계\n",
    "    pop_table = pd.DataFrame(pop_data_ym.groupby(['gid', '시각'])['유동인구수'].sum())\n",
    "    pop_table.reset_index(inplace = True)\n",
    "    pop_table.columns = ['gid', '시각', '유동인구수']\n",
    "    # 유동인구 sum값이 0인 경우 제외\n",
    "    pop_table = pop_table[pop_table['유동인구수'] > 0]\n",
    "    pop_table.to_csv(preprocessing_dir_num + 'grid별 시각별 유동인구 index_' + str(start_ym) + \"_\" + str(end_ym) + '.csv',\n",
    "                    index = False, encoding = 'MS949')\n",
    "    print('[유동인구 index 저장] \\n' + preprocessing_dir_num + 'grid별 시각별 유동인구 index_' + str(start_ym) + \"_\" + str(end_ym) + '.csv')"
   ]
  },
  {
   "cell_type": "markdown",
   "metadata": {},
   "source": [
    "# 5. 유동인구 데이터 전처리"
   ]
  },
  {
   "cell_type": "code",
   "execution_count": 7,
   "metadata": {},
   "outputs": [
    {
     "name": "stdout",
     "output_type": "stream",
     "text": [
      "[유동인구 index 저장] \n",
      "C:/19Project/05.TRV/02.QGIS_workspace/유동인구 전처리_20211012_1/grid별 시각별 유동인구 index_201907_201908.csv\n"
     ]
    }
   ],
   "source": [
    "shuttle_pop(raw_pop_data)"
   ]
  }
 ],
 "metadata": {
  "kernelspec": {
   "display_name": "Python 3",
   "language": "python",
   "name": "python3"
  },
  "language_info": {
   "codemirror_mode": {
    "name": "ipython",
    "version": 3
   },
   "file_extension": ".py",
   "mimetype": "text/x-python",
   "name": "python",
   "nbconvert_exporter": "python",
   "pygments_lexer": "ipython3",
   "version": "3.8.8"
  }
 },
 "nbformat": 4,
 "nbformat_minor": 2
}
